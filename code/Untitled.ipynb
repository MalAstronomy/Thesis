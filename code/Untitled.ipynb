{
 "cells": [
  {
   "cell_type": "code",
   "execution_count": 296,
   "metadata": {},
   "outputs": [
    {
     "name": "stdout",
     "output_type": "stream",
     "text": [
      "The autoreload extension is already loaded. To reload it, use:\n",
      "  %reload_ext autoreload\n"
     ]
    }
   ],
   "source": [
    "# #!/usr/bin/env python3\n",
    "# # -*- coding: utf-8 -*-\n",
    "# \"\"\"\n",
    "# Created on Tue Apr 23 23:16:42 2019\n",
    "\n",
    "# @author: malavikavijayendravasist\n",
    "# \"\"\"\n",
    "\n",
    "%load_ext autoreload\n",
    "%autoreload 2\n",
    "\n",
    "import tensorflow\n",
    "from tensorflow.python.keras import layers \n",
    "from tensorflow.python.keras.losses import categorical_crossentropy\n",
    "from tensorflow.python.keras.callbacks import TensorBoard\n",
    "from tensorflow.keras.applications.resnet50 import ResNet50\n",
    "from tensorflow.keras.models import Model\n",
    "from tensorflow.python.keras import backend\n",
    "from tensorflow.python.keras.callbacks import ModelCheckpoint\n",
    "from tensorflow.keras.metrics import top_k_categorical_accuracy \n",
    "from tensorflow.keras.models import load_model\n",
    "\n",
    "from keras.utils import CustomObjectScope\n",
    "from sklearn.metrics import confusion_matrix\n",
    "\n",
    "import time\n",
    "import numpy as np\n",
    "import os\n",
    "import h5py\n",
    "\n",
    "\n",
    "#from keras.initializers import glorot_uniform\n",
    "\n",
    "from data_classes import data_classes\n",
    "from converting_images_to_TFRecords_ import converting_to_TFRecords as convertingTF\n",
    "#from tfrecords import converting_to_TFRecords as Ctfrecords\n",
    "from extracting_images_from_TFRecords_ import extracting_TFRecords as extractTF\n",
    "#from extracting_ratio_records import  extracting_TFRecords as Ctfextract\n",
    "from networkss import networks\n",
    "from plot_confusion_matrix import ConfusionMatrix\n",
    "\n",
    "\n",
    "sess = tensorflow.Session()\n",
    "\n",
    "#training in Titan- /home/vasist/code/\n",
    "\n"
   ]
  },
  {
   "cell_type": "code",
   "execution_count": 411,
   "metadata": {},
   "outputs": [],
   "source": [
    "class All: \n",
    "    \n",
    "    def __init__(self, feature=None,pic_path=None,feature_values=None,DCfolder=None,epochs=None,batch_size=None,nclasses=None,dims=None,TBfolder=None,name=\"\"):\n",
    "        self.name = name\n",
    "        self.feature='Size Ratio' #'Mass Ratio',\n",
    "        self.feature_values=[]\n",
    "        self.pic_path='/Users/malavikavijayendravasist/Desktop/mt2/handpicked_images/' #'/home/vasist/images/'\n",
    "        self.DCfolder='/Users/malavikavijayendravasist/Desktop/mt2/data_classes/data_classes_trial/'#'/home/vasist/data_classes/'\n",
    "        #self.TFRecord='/home/vasist/TFRecords/data_classes/'\n",
    "        self.TFRecord='/Users/malavikavijayendravasist/Desktop/mt2/TFRecords/trial/'#'/home/vasist/TFRecords/ratio/'\n",
    "        self.feat=[]    # array of features of all the images in the same order as the images\n",
    "        self.nepochs=5\n",
    "        self.batch_size=5\n",
    "        self.nclasses=10\n",
    "        self.dims=[224,224,3]\n",
    "        self.TBfolder='/Users/malavikavijayendravasist/Desktop/mt2/Tensorboard/trial/'#'/home/vasist/Tensorboard/data_classes/'\n",
    "        self.CPfolder='/Users/malavikavijayendravasist/Desktop/mt2/Checkpoints/trial/'#'/home/vasist/Checkpoints/data_classes/'\n",
    "        self.Modelfolder='/Users/malavikavijayendravasist/Desktop/mt2/Models/trial/'#'/home/vasist/Models/data_classes/'\n",
    "        self.network_name='mnist' #resnet50/mnist\n",
    "        \n",
    "        \n",
    "    def Feature(self):\n",
    "        \n",
    "        images = os.listdir(self.pic_path)\n",
    "        images=np.asarray(images)\n",
    "\n",
    "        indices= np.random.choice(np.arange(len(images)),100) #len(images)\n",
    "\n",
    "\n",
    "        redshift=[]\n",
    "        merger=[]\n",
    "        angle=[]\n",
    "        picture_names=[]\n",
    "        \n",
    "        for i in indices:\n",
    "            redshift.append(int(images[i].split('_')[1]))\n",
    "            merger.append(int(images[i].split('_')[2]))\n",
    "            angle.append(int(images[i].split('_')[3].split('.')[0]))\n",
    "            picture_names.append(images[i])\n",
    "        \n",
    "        return redshift,merger,picture_names\n",
    "        \n",
    "    def making_data_classes(self): #feature='Mass Ratio' #1\n",
    "        \n",
    "        redshift,merger,picture_names= self.Feature()\n",
    "\n",
    "        making_classes= data_classes(self.pic_path,redshift,self.feature,merger,picture_names,self.DCfolder,self.nclasses)\n",
    "        high=making_classes.making_classes()\n",
    "        \n",
    "        f=h5py.File('/Users/malavikavijayendravasist/Desktop/mt2/high.hdf5','w')\n",
    "        f.create_dataset('high',data=high)\n",
    "        f.close()\n",
    "        \n",
    "        \n",
    "    def making_tfrecords(self):    #1\n",
    "        \n",
    "        #self.high=self.making_data_classes() \n",
    "        f=h5py.File('/Users/malavikavijayendravasist/Desktop/mt2/high.hdf5','r')\n",
    "        high=f['high'].value\n",
    "        f.close()\n",
    "        self.feature_values= np.linspace(0,high,self.nclasses+1)[1:] \n",
    "        self.feature_values=np.asarray([round(i,3) for i in self.feature_values])\n",
    "        convertingTF(self.feature_values, self.DCfolder,self.TFRecord,self.feature).conversion()   \n",
    "        \n",
    "    \n",
    "\n",
    "    def extracting_tfrecords(self): #1\n",
    "        train_iterator, valid_iterator, test_iterator, steps_per_epoch_train, steps_per_epoch_valid, steps_test= extractTF(self.TFRecord,self.feature_values,self.nclasses,self.dims,self.batch_size,self.nepochs).handling_dataset()\n",
    "        \n",
    "        return train_iterator, valid_iterator, test_iterator, steps_per_epoch_train, steps_per_epoch_valid, steps_test\n",
    "    \n",
    "\n",
    "    def networkss(self):\n",
    "        \n",
    "        train_iterator, valid_iterator, test_iterator, steps_per_epoch_train, steps_per_epoch_valid, steps_test =self.extracting_tfrecords()\n",
    "        \n",
    "        network= networks(self.nclasses,self.nepochs,self.batch_size,train_iterator, valid_iterator, test_iterator, steps_per_epoch_train, steps_per_epoch_valid, steps_test, self.network_name, self.feature,self.TBfolder,self.CPfolder,self.Modelfolder, self.dims)\n",
    "\n",
    "        #untrained_model= network.fitting_mnist()  #returns a compiled but untrained model \n",
    "        untrained_model= network.fitting_resnet50()\n",
    "        model_name=network.fitting(untrained_model) #the model is saved here\n",
    "        \n",
    "        f= h5py.File('/Users/malavikavijayendravasist/Desktop/mt2/model_name.hdf5','w')\n",
    "        f.create_dataset('model_name',data=model_name)\n",
    "        f.close()\n",
    "     \n",
    "        #trained_model= network.fitting(trained_model)   #to resume fitting \n",
    "        \n",
    "    def saved_model(self): \n",
    "        \n",
    "        f= h5py.File('/Users/malavikavijayendravasist/Desktop/mt2/model_name.hdf5','r')\n",
    "        model_name= f['model_name'].value\n",
    "        f.close()\n",
    "#         print(model_name)\n",
    "        \n",
    "#         trained_model_name=self.Modelfolder+model_name\n",
    "#         print(trained_model_name)\n",
    "        model= load_model(self.CPfolder+model_name+'_'+str(self.nepochs)+'.h5')\n",
    "        #model= load_model(self.CPfolder,custom_objects={'top_2_categorical_accuracy': self.top_2_categorical_accuracy})\n",
    "        return model \n",
    "        \n",
    "          \n",
    "    def predict(self): \n",
    "        \n",
    "        #images = os.listdir(self.pic_path)\n",
    "        \n",
    "        ###picking 100 random images and selecting 10 out of them\n",
    "        \n",
    "        redshift,merger,picture_names=self.Feature() #100 random images\n",
    "        making_classes= data_classes(self.pic_path,redshift,self.feature,merger,picture_names,self.DCfolder,self.nclasses)\n",
    "        feat=making_classes.feat() #feature values for 100 random images obtained\n",
    "    \n",
    "        #########################selecting 10 \n",
    "        \n",
    "        indices= np.random.randint(0,len(picture_names),10) \n",
    "        merger=np.asarray(merger)\n",
    "        picture_names=np.asarray(picture_names)\n",
    "        merger_p=merger[indices]\n",
    "        picture_names_p=picture_names[indices]\n",
    "        feat_p=feat[indices]\n",
    "        print('fp',feat_p)\n",
    "        ######################################\n",
    "        \n",
    "        \n",
    "        cl=self.cl()\n",
    "        print(cl) \n",
    "        ytrue=[]\n",
    "        for i in np.arange(len(merger_p)):\n",
    "            for ind,c in enumerate(cl[1:]):\n",
    "                ind+=1\n",
    "                if feat_p[i] >= cl[ind-1] and feat_p[i] <= cl[ind]:\n",
    "                    #np.append(ytrue,cl[ind])\n",
    "                    ytrue.append(cl[ind])\n",
    "                    break\n",
    "                \n",
    "                    \n",
    "\n",
    "        picture_array = np.zeros((len(picture_names_p), self.dims[0], self.dims[1], self.dims[2]), dtype=np.float32)\n",
    "        picture_name_tensor, picture= convertingTF(self.feature_values, self.DCfolder,self.TFRecord,self.feature).image_process()\n",
    "\n",
    "        for i,name in enumerate(picture_names_p):\n",
    "            Name=self.pic_path+name\n",
    "            picture_array[i] = sess.run(picture, feed_dict={picture_name_tensor: Name})\n",
    "            picture_array[i] = np.array(picture_array[i], dtype=np.float32)\n",
    "            picture_array[i] /= 255\n",
    "            #if i%500==0: print(i)\n",
    "        \n",
    "        \n",
    "        model= self.saved_model()\n",
    "        print(\"Start\")\n",
    "        predictions= model.predict(picture_array, verbose=1)\n",
    "        print(predictions)\n",
    "        print(\"End\")\n",
    "        \n",
    "        ypred=[]\n",
    "        perfect_counter = 0\n",
    "        for i in range(len(picture_names_p)):\n",
    "            \n",
    "            max1 = np.amax(predictions[i][:self.nclasses])\n",
    "            idx = np.where(predictions[i]==max1)[0][0]\n",
    "            ypred.append(cl[idx+1])\n",
    "        \n",
    "        \n",
    "        print(merger_p)\n",
    "        print(picture_names_p)\n",
    "        print(ytrue)\n",
    "        print(ypred)\n",
    "           \n",
    "        \n",
    "        f=h5py.File('/Users/malavikavijayendravasist/Desktop/mt2/CM.hdf5','w')\n",
    "        s1=f.create_dataset('ytrue',data=ytrue)\n",
    "        s2=f.create_dataset('ypred',data=ypred)\n",
    "        f.close()\n",
    "        \n",
    "        return ytrue,ypred \n",
    "    \n",
    "    def cl(self): \n",
    "        \n",
    "        f=h5py.File('/Users/malavikavijayendravasist/Desktop/mt2/high.hdf5','r')\n",
    "        high=f['high'].value\n",
    "        f.close()\n",
    "        cl=np.linspace(0,high,10+1) #self.feature_values doesnt include 0\n",
    "        cl=[round(i,3) for i in cl]\n",
    "        return cl \n",
    "    \n",
    "    def get_index(self,ytrue, ypred): \n",
    "        \n",
    "        cl=self.cl()\n",
    "        index_ytrue=np.zeros(len(ytrue))\n",
    "        index_ypred=np.zeros(len(ypred))\n",
    "\n",
    "        for i in np.arange(len(ytrue)):\n",
    "            index_ytrue[i]=np.where(ytrue[i]==cl)[0]-1\n",
    "            index_ypred[i]=np.where(ypred[i]==cl)[0]-1\n",
    "        return index_ytrue,index_ypred\n",
    "                \n",
    "        \n",
    "    def ConfusionMatrix(self): \n",
    "        #array of true and predicted class values \n",
    "        f=h5py.File('/Users/malavikavijayendravasist/Desktop/mt2/CM.hdf5','r')\n",
    "        ytrue=f['ytrue'].value\n",
    "        ypred=f['ypred'].value\n",
    "        f.close()\n",
    "\n",
    "        cl=self.cl()[1:]\n",
    "        cl=np.asarray(cl)\n",
    "        index_ytrue,index_ypred= self.get_index(ytrue,ypred)\n",
    "        print(index_ytrue,index_ypred)\n",
    "        CM=ConfusionMatrix()\n",
    "        #print('fv',self.feature_values)\n",
    "        # Plot non-normalized confusion matrix\n",
    "        print(cl.astype(str))\n",
    "        CM.plot_confusion_matrix(index_ytrue, index_ypred, classes=cl.astype(str), title='Confusion matrix, without normalization')\n",
    "\n",
    "        # Plot normalized confusion matrix\n",
    "        CM.plot_confusion_matrix(index_ytrue, index_ypred, classes=cl.astype(str), normalize=True, title='Normalized confusion matrix')\n",
    "        \n",
    "    \n",
    "    \n",
    "# if __name__ == '__main__':\n",
    "    \n",
    "#     All=All()\n",
    "#     #All.making_data_classes()\n",
    "#     All.making_tfrecords()\n",
    "\n",
    "#    high=All.data_classes()\n",
    "#    tfrecords(high)\n"
   ]
  },
  {
   "cell_type": "code",
   "execution_count": 412,
   "metadata": {},
   "outputs": [],
   "source": [
    "All=All()\n",
    "a1=All.making_data_classes\n",
    "a2=All.making_tfrecords\n",
    "a3=All.extracting_tfrecords\n",
    "a4=All.networkss\n",
    "a5=All.predict\n",
    "a6=All.ConfusionMatrix"
   ]
  },
  {
   "cell_type": "code",
   "execution_count": 116,
   "metadata": {},
   "outputs": [
    {
     "name": "stdout",
     "output_type": "stream",
     "text": [
      "class 0.0_0.114\n",
      "class 0.114_0.228\n",
      "class 0.228_0.343\n",
      "class 0.343_0.457\n",
      "class 0.457_0.571\n",
      "class 0.571_0.685\n",
      "class 0.685_0.799\n",
      "class 0.799_0.913\n",
      "class 0.913_1.028\n",
      "class 1.028_1.142\n"
     ]
    }
   ],
   "source": [
    "# a2()"
   ]
  },
  {
   "cell_type": "code",
   "execution_count": 129,
   "metadata": {},
   "outputs": [
    {
     "data": {
      "text/plain": [
       "(<generator object extracting_TFRecords.handling_dataset.<locals>.make_iterator at 0x10f235a98>,\n",
       " <generator object extracting_TFRecords.handling_dataset.<locals>.make_iterator at 0x10f28cba0>,\n",
       " <generator object extracting_TFRecords.handling_dataset.<locals>.make_iterator at 0x1a3c751f10>,\n",
       " 14,\n",
       " 2,\n",
       " 2)"
      ]
     },
     "execution_count": 129,
     "metadata": {},
     "output_type": "execute_result"
    }
   ],
   "source": [
    "# a3()"
   ]
  },
  {
   "cell_type": "code",
   "execution_count": 249,
   "metadata": {},
   "outputs": [
    {
     "name": "stdout",
     "output_type": "stream",
     "text": [
      "Size_mnist_5_1556703358\n",
      "Epoch 1/5\n",
      "13/14 [==========================>...] - ETA: 2s - loss: 2.4018 - acc: 0.2769\n",
      "Epoch 00001: saving model to /Users/malavikavijayendravasist/Desktop/mt2/Checkpoints/trial/Size_mnist_5_1556703358_1.h5\n",
      "14/14 [==============================] - 118s 8s/step - loss: 2.3196 - acc: 0.2857 - val_loss: 2.2817 - val_acc: 0.3000\n",
      "Epoch 2/5\n",
      "13/14 [==========================>...] - ETA: 0s - loss: 2.0084 - acc: 0.2462\n",
      "Epoch 00002: saving model to /Users/malavikavijayendravasist/Desktop/mt2/Checkpoints/trial/Size_mnist_5_1556703358_2.h5\n",
      "14/14 [==============================] - 14s 984ms/step - loss: 2.0550 - acc: 0.2286 - val_loss: 2.0330 - val_acc: 0.3000\n",
      "Epoch 3/5\n",
      "13/14 [==========================>...] - ETA: 0s - loss: 1.6393 - acc: 0.4154\n",
      "Epoch 00003: saving model to /Users/malavikavijayendravasist/Desktop/mt2/Checkpoints/trial/Size_mnist_5_1556703358_3.h5\n",
      "14/14 [==============================] - 14s 993ms/step - loss: 1.6376 - acc: 0.4143 - val_loss: 2.3613 - val_acc: 0.2000\n",
      "Epoch 4/5\n",
      "13/14 [==========================>...] - ETA: 0s - loss: 1.2575 - acc: 0.5231\n",
      "Epoch 00004: saving model to /Users/malavikavijayendravasist/Desktop/mt2/Checkpoints/trial/Size_mnist_5_1556703358_4.h5\n",
      "14/14 [==============================] - 14s 1s/step - loss: 1.2847 - acc: 0.5143 - val_loss: 2.0240 - val_acc: 0.3000\n",
      "Epoch 5/5\n",
      "13/14 [==========================>...] - ETA: 0s - loss: 1.2603 - acc: 0.6000\n",
      "Epoch 00005: saving model to /Users/malavikavijayendravasist/Desktop/mt2/Checkpoints/trial/Size_mnist_5_1556703358_5.h5\n",
      "14/14 [==============================] - 14s 979ms/step - loss: 1.2513 - acc: 0.6000 - val_loss: 2.8609 - val_acc: 0.2000\n"
     ]
    }
   ],
   "source": [
    "a4()"
   ]
  },
  {
   "cell_type": "code",
   "execution_count": 292,
   "metadata": {
    "scrolled": false
   },
   "outputs": [
    {
     "name": "stdout",
     "output_type": "stream",
     "text": [
      "fp [0.32680118 0.54989304 0.80306365 0.14679812 0.37638288 0.16733874\n",
      " 0.56955443 0.29535871 0.03883375 0.48466863]\n",
      "[0.0, 0.114, 0.228, 0.343, 0.457, 0.571, 0.685, 0.799, 0.913, 1.028, 1.142]\n",
      "Start\n",
      "10/10 [==============================] - 32s 3s/step\n",
      "[[0.12704901 0.04496975 0.07359365 0.1778367  0.41947567 0.03944113\n",
      "  0.00293364 0.03096693 0.00693771 0.07679582]\n",
      " [0.12611859 0.04535809 0.07818064 0.1837479  0.4099726  0.03917394\n",
      "  0.00280217 0.03095052 0.00692926 0.07676628]\n",
      " [0.12725037 0.04645619 0.07398017 0.1827575  0.40997046 0.03991488\n",
      "  0.00302872 0.0323875  0.00727456 0.07697976]\n",
      " [0.12766223 0.04654561 0.07415318 0.1815216  0.4104271  0.03925602\n",
      "  0.00307046 0.03230442 0.00736683 0.07769249]\n",
      " [0.12785544 0.04699896 0.07483467 0.18116876 0.40910032 0.03930731\n",
      "  0.00307703 0.03246684 0.00744936 0.07774114]\n",
      " [0.12575208 0.04847782 0.07520773 0.17863962 0.40989894 0.03973754\n",
      "  0.00320599 0.03314817 0.00769905 0.07823307]\n",
      " [0.1283331  0.04669771 0.0737925  0.1810213  0.4097547  0.03948299\n",
      "  0.00305874 0.03270369 0.0073793  0.07777605]\n",
      " [0.12769285 0.04719471 0.07346762 0.18269631 0.40843388 0.03971117\n",
      "  0.00309751 0.03270535 0.00744    0.07756058]\n",
      " [0.12511533 0.04667662 0.07469192 0.1762089  0.42236912 0.03784426\n",
      "  0.00293277 0.03188072 0.00668834 0.07559191]\n",
      " [0.12908934 0.0467754  0.07597893 0.18319376 0.40380606 0.03970042\n",
      "  0.00307305 0.03234148 0.00752749 0.07851409]]\n",
      "End\n",
      "[ 72  50  23  42  77 118  19  33  53   7]\n",
      "['C_28_72_300.jpg' 'C_28_50_315.jpg' 'C_28_23_30.jpg' 'C_28_42_150.jpg'\n",
      " 'C_28_77_105.jpg' 'C_28_118_165.jpg' 'C_28_19_285.jpg' 'C_28_33_330.jpg'\n",
      " 'C_28_53_15.jpg' 'C_28_7_225.jpg']\n",
      "[0.343, 0.571, 0.913, 0.228, 0.457, 0.228, 0.571, 0.343, 0.114, 0.571]\n",
      "[0.571, 0.571, 0.571, 0.571, 0.571, 0.571, 0.571, 0.571, 0.571, 0.571]\n"
     ]
    },
    {
     "data": {
      "text/plain": [
       "([0.343, 0.571, 0.913, 0.228, 0.457, 0.228, 0.571, 0.343, 0.114, 0.571],\n",
       " [0.571, 0.571, 0.571, 0.571, 0.571, 0.571, 0.571, 0.571, 0.571, 0.571])"
      ]
     },
     "execution_count": 292,
     "metadata": {},
     "output_type": "execute_result"
    }
   ],
   "source": [
    "a5()"
   ]
  },
  {
   "cell_type": "code",
   "execution_count": 414,
   "metadata": {},
   "outputs": [
    {
     "name": "stdout",
     "output_type": "stream",
     "text": [
      "[2. 4. 7. 1. 3. 1. 4. 2. 0. 4.] [4. 4. 4. 4. 4. 4. 4. 4. 4. 4.]\n",
      "['0.114' '0.228' '0.343' '0.457' '0.571' '0.685' '0.799' '0.913' '1.028'\n",
      " '1.142']\n",
      "Confusion matrix, without normalization\n",
      "[[0 0 0 0 0 0 0 0 0 0]\n",
      " [0 0 0 0 0 0 0 0 0 0]\n",
      " [0 0 0 0 0 0 0 0 0 1]\n",
      " [0 0 0 0 0 0 0 0 0 0]\n",
      " [0 0 0 0 0 0 0 0 0 1]\n",
      " [0 0 0 0 0 0 0 0 0 2]\n",
      " [0 0 0 0 0 0 0 0 0 0]\n",
      " [0 0 0 0 0 0 0 0 0 2]\n",
      " [0 0 0 0 0 0 0 0 0 1]\n",
      " [0 0 0 0 0 0 0 0 0 3]]\n",
      "Normalized confusion matrix\n",
      "[[nan nan nan nan nan nan nan nan nan nan]\n",
      " [nan nan nan nan nan nan nan nan nan nan]\n",
      " [ 0.  0.  0.  0.  0.  0.  0.  0.  0.  1.]\n",
      " [nan nan nan nan nan nan nan nan nan nan]\n",
      " [ 0.  0.  0.  0.  0.  0.  0.  0.  0.  1.]\n",
      " [ 0.  0.  0.  0.  0.  0.  0.  0.  0.  1.]\n",
      " [nan nan nan nan nan nan nan nan nan nan]\n",
      " [ 0.  0.  0.  0.  0.  0.  0.  0.  0.  1.]\n",
      " [ 0.  0.  0.  0.  0.  0.  0.  0.  0.  1.]\n",
      " [ 0.  0.  0.  0.  0.  0.  0.  0.  0.  1.]]\n"
     ]
    },
    {
     "data": {
      "image/png": "[encoded data removed]",
      "text/plain": [
       "<Figure size 432x288 with 2 Axes>"
      ]
     },
     "metadata": {
      "needs_background": "light"
     },
     "output_type": "display_data"
    },
    {
     "data": {
      "image/png": "[encoded data removed]",
      "text/plain": [
       "<Figure size 432x288 with 2 Axes>"
      ]
     },
     "metadata": {
      "needs_background": "light"
     },
     "output_type": "display_data"
    }
   ],
   "source": [
    "a6()"
   ]
  },
  {
   "cell_type": "code",
   "execution_count": null,
   "metadata": {},
   "outputs": [],
   "source": [
    "import os\n",
    "os.listdir('/Users/malavikavijayendravasist/Desktop/mt2/Checkpoints/trial/')"
   ]
  },
  {
   "cell_type": "code",
   "execution_count": 219,
   "metadata": {},
   "outputs": [
    {
     "ename": "KeyError",
     "evalue": "'i'",
     "output_type": "error",
     "traceback": [
      "\u001b[0;31m---------------------------------------------------------------------------\u001b[0m",
      "\u001b[0;31mKeyError\u001b[0m                                  Traceback (most recent call last)",
      "\u001b[0;32m<ipython-input-219-e3aec80141af>\u001b[0m in \u001b[0;36m<module>\u001b[0;34m\u001b[0m\n\u001b[1;32m      1\u001b[0m \u001b[0;32mfor\u001b[0m \u001b[0mi\u001b[0m \u001b[0;32min\u001b[0m \u001b[0mrange\u001b[0m\u001b[0;34m(\u001b[0m\u001b[0;36m10\u001b[0m\u001b[0;34m)\u001b[0m\u001b[0;34m:\u001b[0m\u001b[0;34m\u001b[0m\u001b[0;34m\u001b[0m\u001b[0m\n\u001b[0;32m----> 2\u001b[0;31m     \u001b[0ms\u001b[0m\u001b[0;34m=\u001b[0m\u001b[0;34m'soemthing'\u001b[0m\u001b[0;34m+\u001b[0m\u001b[0;34m\"_{i:0ld}\"\u001b[0m\u001b[0;34m.\u001b[0m\u001b[0mformat\u001b[0m\u001b[0;34m(\u001b[0m\u001b[0;36m134\u001b[0m\u001b[0;34m)\u001b[0m\u001b[0;34m\u001b[0m\u001b[0;34m\u001b[0m\u001b[0m\n\u001b[0m\u001b[1;32m      3\u001b[0m     \u001b[0mprint\u001b[0m\u001b[0;34m(\u001b[0m\u001b[0ms\u001b[0m\u001b[0;34m)\u001b[0m\u001b[0;34m\u001b[0m\u001b[0;34m\u001b[0m\u001b[0m\n",
      "\u001b[0;31mKeyError\u001b[0m: 'i'"
     ]
    }
   ],
   "source": [
    "for i in range(10):\n",
    "    s='soemthing'+\"_{0:0ld}\".format(134)\n",
    "    print(s)"
   ]
  },
  {
   "cell_type": "code",
   "execution_count": 233,
   "metadata": {},
   "outputs": [
    {
     "name": "stdout",
     "output_type": "stream",
     "text": [
      "0000\n",
      "0001\n",
      "0002\n",
      "0003\n",
      "0004\n",
      "0005\n",
      "0006\n",
      "0007\n",
      "0008\n",
      "0009\n"
     ]
    }
   ],
   "source": [
    "l=4\n",
    "for i in range(10):     \n",
    "    a=\"{:0\"+str(l)+\"d}\"\n",
    "    b=a.format(i)\n",
    "    print(b)\n",
    "    "
   ]
  },
  {
   "cell_type": "code",
   "execution_count": null,
   "metadata": {},
   "outputs": [],
   "source": [
    "a='_{epoch:0ld}.h5'"
   ]
  },
  {
   "cell_type": "code",
   "execution_count": 245,
   "metadata": {},
   "outputs": [
    {
     "name": "stdout",
     "output_type": "stream",
     "text": [
      "1\n",
      "0\n",
      "2\n"
     ]
    }
   ],
   "source": [
    "a=18\n",
    "c=0\n",
    "while (a>0): \n",
    "    a//=10\n",
    "    print(a)\n",
    "    c+=1\n",
    "    \n",
    "print(c)\n"
   ]
  },
  {
   "cell_type": "code",
   "execution_count": 339,
   "metadata": {},
   "outputs": [
    {
     "name": "stdout",
     "output_type": "stream",
     "text": [
      "[0.0, 0.114, 0.228, 0.343, 0.457, 0.571, 0.685, 0.799, 0.913, 1.028, 1.142]\n",
      "[0.343 0.571 0.913 0.228 0.457 0.228 0.571 0.343 0.114 0.571]\n",
      "[0.571 0.571 0.571 0.571 0.571 0.571 0.571 0.571 0.571 0.571]\n"
     ]
    }
   ],
   "source": [
    "f=h5py.File('/Users/malavikavijayendravasist/Desktop/mt2/CM.hdf5','r')\n",
    "ytrue=f['ytrue'].value\n",
    "ypred=f['ypred'].value\n",
    "f.close()\n",
    "\n",
    "f=h5py.File('/Users/malavikavijayendravasist/Desktop/mt2/high.hdf5','r')\n",
    "high=f['high'].value\n",
    "f.close()\n",
    "cl=np.linspace(0,high,10+1) #self.feature_values doesnt include 0\n",
    "cl=[round(i,3) for i in cl]\n",
    "print(cl)\n",
    "print(ytrue)\n",
    "print(ypred)"
   ]
  },
  {
   "cell_type": "code",
   "execution_count": 340,
   "metadata": {},
   "outputs": [],
   "source": [
    "def get_index(ytrue, ypred ): \n",
    "        \n",
    "    index_ytrue=np.zeros(len(ytrue))\n",
    "    index_ypred=np.zeros(len(ypred))\n",
    "    \n",
    "    for i in np.arange(len(ytrue)):\n",
    "        index_ytrue[i]=np.where(ytrue[i]==cl)[0]-1\n",
    "        index_ypred[i]=np.where(ypred[i]==cl)[0]-1\n",
    "    print(index_ytrue,index_ypred)"
   ]
  },
  {
   "cell_type": "code",
   "execution_count": 341,
   "metadata": {},
   "outputs": [
    {
     "name": "stdout",
     "output_type": "stream",
     "text": [
      "[2. 4. 7. 1. 3. 1. 4. 2. 0. 4.] [4. 4. 4. 4. 4. 4. 4. 4. 4. 4.]\n"
     ]
    }
   ],
   "source": [
    "get_index(ytrue,ypred)"
   ]
  },
  {
   "cell_type": "code",
   "execution_count": null,
   "metadata": {},
   "outputs": [],
   "source": []
  }
 ],
 "metadata": {
  "kernelspec": {
   "display_name": "Python 3",
   "language": "python",
   "name": "python3"
  },
  "language_info": {
   "codemirror_mode": {
    "name": "ipython",
    "version": 3
   },
   "file_extension": ".py",
   "mimetype": "text/x-python",
   "name": "python",
   "nbconvert_exporter": "python",
   "pygments_lexer": "ipython3",
   "version": "3.6.8"
  }
 },
 "nbformat": 4,
 "nbformat_minor": 2
}
